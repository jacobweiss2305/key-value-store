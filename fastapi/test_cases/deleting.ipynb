{
 "cells": [
  {
   "cell_type": "code",
   "execution_count": 1,
   "metadata": {},
   "outputs": [],
   "source": [
    "import requests\n",
    "\n",
    "base_url = \"http://localhost:8000\"\n"
   ]
  },
  {
   "cell_type": "code",
   "execution_count": 2,
   "metadata": {},
   "outputs": [],
   "source": [
    "def view_dataset(base_url):\n",
    "    response = requests.get(f\"{base_url}/view\")\n",
    "    if response.status_code == 200:\n",
    "        dataset = response.json()\n",
    "        return dataset\n",
    "    else:\n",
    "        print(f\"Failed to retrieve dataset. Status code: {response.status_code}\")\n",
    "        return None"
   ]
  },
  {
   "cell_type": "code",
   "execution_count": 3,
   "metadata": {},
   "outputs": [
    {
     "name": "stdout",
     "output_type": "stream",
     "text": [
      "{'status': 'Ok', 'mesg': 'Transaction started', 'transaction_id': '5'}\n",
      "{'status': 'Ok', 'mesg': 'Key-value pair added/updated'}\n",
      "{'status': 'Ok', 'mesg': 'Transaction committed'}\n"
     ]
    },
    {
     "data": {
      "text/plain": [
       "{'most_popular_leader': 'georgew',\n",
       " 'Lebron James': '60 PTS, 20 REB, 45 AST',\n",
       " 'Carmelo Anthony': '60 PTS, 20 REB, 45 AST'}"
      ]
     },
     "execution_count": 3,
     "metadata": {},
     "output_type": "execute_result"
    }
   ],
   "source": [
    "try:\n",
    "    # Start the transaction\n",
    "    response = requests.post(f\"{base_url}/start\")\n",
    "    data = response.json()\n",
    "    transaction_id = data[\"transaction_id\"]\n",
    "    print(data)\n",
    "    \n",
    "    # Perform data modifications within the transaction\n",
    "    key = \"Lebron James\"\n",
    "    value = \"60 PTS, 20 REB, 45 AST\"\n",
    "\n",
    "    # Add or update a key-value pair\n",
    "    response = requests.put(f\"{base_url}/set/{transaction_id}/{key}?value={value}\")\n",
    "    data = response.json()\n",
    "    print(data)\n",
    "\n",
    "    # Commit the transaction\n",
    "    response = requests.post(f\"{base_url}/commit/{transaction_id}\")\n",
    "    data = response.json()\n",
    "    print(data)\n",
    "except:\n",
    "    # Rollback the transaction in case of an error\n",
    "    response = requests.post(f\"{base_url}/rollback/{transaction_id}\")\n",
    "    data = response.json()\n",
    "    print(data)\n",
    "\n",
    "view_dataset(base_url)"
   ]
  },
  {
   "cell_type": "code",
   "execution_count": 4,
   "metadata": {},
   "outputs": [
    {
     "name": "stdout",
     "output_type": "stream",
     "text": [
      "{'status': 'Ok', 'mesg': 'Transaction started', 'transaction_id': '6'}\n",
      "{'status': 'Ok', 'mesg': 'Key-value pair added/updated'}\n",
      "{'status': 'Ok', 'mesg': 'Key-value pair deleted'}\n",
      "{'status': 'Ok', 'mesg': 'Transaction committed'}\n"
     ]
    },
    {
     "data": {
      "text/plain": [
       "{'most_popular_leader': 'georgew', 'Carmelo Anthony': '60 PTS, 20 REB, 45 AST'}"
      ]
     },
     "execution_count": 4,
     "metadata": {},
     "output_type": "execute_result"
    }
   ],
   "source": [
    "try:\n",
    "    # Start the transaction\n",
    "    response = requests.post(f\"{base_url}/start\")\n",
    "    data = response.json()\n",
    "    transaction_id = data[\"transaction_id\"]\n",
    "    print(data)\n",
    "\n",
    "    # Perform data modifications within the transaction\n",
    "    key = \"Lebron James\"\n",
    "    value = \"60 PTS, 20 REB, 45 AST\"\n",
    "\n",
    "    # Add or update a key-value pair\n",
    "    response = requests.put(f\"{base_url}/set/{transaction_id}/{key}?value={value}\")\n",
    "    data = response.json()\n",
    "    print(data)\n",
    "\n",
    "    # Delete the key-value pair\n",
    "    response = requests.delete(f\"{base_url}/delete/{transaction_id}/{key}\")\n",
    "    data = response.json()\n",
    "    print(data)\n",
    "\n",
    "    # Commit the transaction\n",
    "    response = requests.post(f\"{base_url}/commit/{transaction_id}\")\n",
    "    data = response.json()\n",
    "    print(data)\n",
    "except:\n",
    "    # Rollback the transaction in case of an error\n",
    "    response = requests.post(f\"{base_url}/rollback/{transaction_id}\")\n",
    "    data = response.json()\n",
    "    print(data)\n",
    "\n",
    "view_dataset(base_url)"
   ]
  }
 ],
 "metadata": {
  "kernelspec": {
   "display_name": "venv",
   "language": "python",
   "name": "python3"
  },
  "language_info": {
   "codemirror_mode": {
    "name": "ipython",
    "version": 3
   },
   "file_extension": ".py",
   "mimetype": "text/x-python",
   "name": "python",
   "nbconvert_exporter": "python",
   "pygments_lexer": "ipython3",
   "version": "3.11.4"
  },
  "orig_nbformat": 4
 },
 "nbformat": 4,
 "nbformat_minor": 2
}
