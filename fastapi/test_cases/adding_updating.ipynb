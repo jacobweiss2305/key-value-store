{
 "cells": [
  {
   "cell_type": "markdown",
   "metadata": {},
   "source": [
    "This notebook tests how to add and update transactions to our in-memory database."
   ]
  },
  {
   "cell_type": "code",
   "execution_count": 27,
   "metadata": {},
   "outputs": [],
   "source": [
    "import requests\n",
    "\n",
    "base_url = \"http://localhost:8000\""
   ]
  },
  {
   "cell_type": "code",
   "execution_count": 28,
   "metadata": {},
   "outputs": [
    {
     "name": "stdout",
     "output_type": "stream",
     "text": [
      "{'status': 'Ok', 'mesg': 'Transaction started', 'transaction_id': '3'}\n"
     ]
    }
   ],
   "source": [
    "response = requests.post(f\"{base_url}/start\")\n",
    "data = response.json()\n",
    "transaction_id = data[\"transaction_id\"]\n",
    "print(data)"
   ]
  },
  {
   "cell_type": "code",
   "execution_count": 29,
   "metadata": {},
   "outputs": [
    {
     "name": "stdout",
     "output_type": "stream",
     "text": [
      "{'status': 'Ok', 'mesg': 'Key-value pair added/updated'}\n"
     ]
    }
   ],
   "source": [
    "key = \"Lebron James\"\n",
    "value = \"60 PTS, 20 REB, 45 AST\"\n",
    "response = requests.put(f\"{base_url}/set/{transaction_id}/{key}?value={value}\")\n",
    "data = response.json()\n",
    "print(data)"
   ]
  },
  {
   "cell_type": "code",
   "execution_count": 30,
   "metadata": {},
   "outputs": [
    {
     "name": "stdout",
     "output_type": "stream",
     "text": [
      "{'status': 'Ok', 'mesg': 'Transaction committed'}\n"
     ]
    }
   ],
   "source": [
    "response = requests.post(f\"{base_url}/commit/{transaction_id}\")\n",
    "data = response.json()\n",
    "print(data)"
   ]
  },
  {
   "cell_type": "code",
   "execution_count": 31,
   "metadata": {},
   "outputs": [
    {
     "data": {
      "text/plain": [
       "{'most_popular_leader': 'georgew',\n",
       " 'Lebron James': '60 PTS, 20 REB, 45 AST',\n",
       " 'Carmelo Anthony': '60 PTS, 20 REB, 45 AST'}"
      ]
     },
     "execution_count": 31,
     "metadata": {},
     "output_type": "execute_result"
    }
   ],
   "source": [
    "def view_dataset(base_url):\n",
    "    response = requests.get(f\"{base_url}/view\")\n",
    "    if response.status_code == 200:\n",
    "        dataset = response.json()\n",
    "        return dataset\n",
    "    else:\n",
    "        print(f\"Failed to retrieve dataset. Status code: {response.status_code}\")\n",
    "        return None\n",
    "\n",
    "view_dataset(base_url)    "
   ]
  },
  {
   "cell_type": "code",
   "execution_count": null,
   "metadata": {},
   "outputs": [],
   "source": []
  }
 ],
 "metadata": {
  "kernelspec": {
   "display_name": "venv",
   "language": "python",
   "name": "python3"
  },
  "language_info": {
   "codemirror_mode": {
    "name": "ipython",
    "version": 3
   },
   "file_extension": ".py",
   "mimetype": "text/x-python",
   "name": "python",
   "nbconvert_exporter": "python",
   "pygments_lexer": "ipython3",
   "version": "3.11.4"
  },
  "orig_nbformat": 4
 },
 "nbformat": 4,
 "nbformat_minor": 2
}
