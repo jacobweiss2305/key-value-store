{
 "cells": [
  {
   "cell_type": "code",
   "execution_count": 7,
   "metadata": {},
   "outputs": [
    {
     "name": "stdout",
     "output_type": "stream",
     "text": [
      "{'status': 'Ok', 'mesg': 'Transaction started', 'transaction_id': '92e3ee2f-4013-4f9f-942e-f13ab3c2b9c5'}\n",
      "{'status': 'Ok', 'mesg': 'Key-value pair added/updated'}\n",
      "{'status': 'Ok', 'mesg': 'Transaction committed'}\n",
      "{'status': 'Ok', 'result': '10 PTS, 20 REB, 45 AST'}\n"
     ]
    }
   ],
   "source": [
    "import socket\n",
    "import json\n",
    "\n",
    "HOST = 'localhost'\n",
    "PORT = 12345\n",
    "\n",
    "# Create a socket client\n",
    "client_socket = socket.socket(socket.AF_INET, socket.SOCK_STREAM)\n",
    "client_socket.connect((HOST, PORT))\n",
    "\n",
    "# Send the START transaction command\n",
    "start_command = {'cmd': 'START'}\n",
    "start_command_json = json.dumps(start_command).encode('utf-8')\n",
    "client_socket.sendall(start_command_json)\n",
    "\n",
    "# Receive and process the START transaction response\n",
    "start_response = client_socket.recv(1024).decode('utf-8')\n",
    "start_data = json.loads(start_response)\n",
    "transaction_id = start_data[\"transaction_id\"]\n",
    "print(start_data)\n",
    "\n",
    "# Prepare the PUT command\n",
    "put_command = {'cmd': 'PUT', 'id': transaction_id, 'key': 'Lebron James', 'value': '10 PTS, 20 REB, 45 AST'}\n",
    "put_command_json = json.dumps(put_command).encode('utf-8')\n",
    "\n",
    "# Send the PUT command\n",
    "client_socket.sendall(put_command_json)\n",
    "\n",
    "# Receive and process the PUT command response\n",
    "put_response = client_socket.recv(1024).decode('utf-8')\n",
    "put_data = json.loads(put_response)\n",
    "print(put_data)\n",
    "\n",
    "# Prepare the COMMIT transaction command\n",
    "commit_command = {'cmd': 'COMMIT', 'id': transaction_id}\n",
    "commit_command_json = json.dumps(commit_command).encode('utf-8')\n",
    "\n",
    "# Send the COMMIT transaction command\n",
    "client_socket.sendall(commit_command_json)\n",
    "\n",
    "# Receive and process the COMMIT transaction response\n",
    "commit_response = client_socket.recv(1024).decode('utf-8')\n",
    "commit_data = json.loads(commit_response)\n",
    "print(commit_data)\n",
    "\n",
    "# Prepare the VIEW command\n",
    "view_command = {'cmd': 'GET', 'key': 'Lebron James'}\n",
    "view_command_json = json.dumps(view_command).encode('utf-8')\n",
    "\n",
    "# Send the VIEW command\n",
    "client_socket.sendall(view_command_json)\n",
    "\n",
    "# Receive and process the VIEW command response\n",
    "view_response = client_socket.recv(1024).decode('utf-8')\n",
    "view_data = json.loads(view_response)\n",
    "print(view_data)\n",
    "\n",
    "# Close the socket connection\n",
    "client_socket.close()\n",
    "\n"
   ]
  }
 ],
 "metadata": {
  "kernelspec": {
   "display_name": "venv",
   "language": "python",
   "name": "python3"
  },
  "language_info": {
   "codemirror_mode": {
    "name": "ipython",
    "version": 3
   },
   "file_extension": ".py",
   "mimetype": "text/x-python",
   "name": "python",
   "nbconvert_exporter": "python",
   "pygments_lexer": "ipython3",
   "version": "3.11.4"
  },
  "orig_nbformat": 4
 },
 "nbformat": 4,
 "nbformat_minor": 2
}
