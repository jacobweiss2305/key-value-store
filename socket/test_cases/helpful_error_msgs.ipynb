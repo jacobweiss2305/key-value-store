{
 "cells": [
  {
   "cell_type": "code",
   "execution_count": 3,
   "metadata": {},
   "outputs": [],
   "source": [
    "import unittest\n",
    "import socket\n",
    "import json\n",
    "\n",
    "class TestErrorMessaging(unittest.TestCase):\n",
    "    def setUp(self):\n",
    "        # Create a socket client\n",
    "        self.client_socket = socket.socket(socket.AF_INET, socket.SOCK_STREAM)\n",
    "        self.client_socket.connect(('localhost', 12345))  # Assumes the server is running on localhost at port 12345\n",
    "\n",
    "    def tearDown(self):\n",
    "        self.client_socket.close()\n",
    "\n",
    "    def test_unknown_command(self):\n",
    "        # Send an unknown command\n",
    "        command = {'cmd': 'UNKNOWN'}\n",
    "        self.client_socket.sendall(json.dumps(command).encode('utf-8'))\n",
    "\n",
    "        # Receive the response\n",
    "        response = json.loads(self.client_socket.recv(1024).decode('utf-8'))\n",
    "\n",
    "        print(response)\n",
    "\n",
    "        # Check that the response contains an error message\n",
    "        self.assertEqual(response['status'], 'Error')\n",
    "        self.assertEqual(response['mesg'], 'Unknown command')\n",
    "\n",
    "    def test_transaction_not_found(self):\n",
    "        # Attempt to commit a non-existent transaction\n",
    "        command = {'cmd': 'COMMIT', 'id': 'non-existent-transaction-id'}\n",
    "        self.client_socket.sendall(json.dumps(command).encode('utf-8'))\n",
    "\n",
    "        # Receive the response\n",
    "        response = json.loads(self.client_socket.recv(1024).decode('utf-8'))\n",
    "\n",
    "        print(response)\n",
    "\n",
    "        # Check that the response contains an error message\n",
    "        self.assertEqual(response['status'], 'Error')\n",
    "        self.assertEqual(response['mesg'], 'Transaction not found')\n"
   ]
  },
  {
   "cell_type": "code",
   "execution_count": 4,
   "metadata": {},
   "outputs": [
    {
     "name": "stderr",
     "output_type": "stream",
     "text": [
      "..\n",
      "----------------------------------------------------------------------\n",
      "Ran 2 tests in 0.006s\n",
      "\n",
      "OK\n"
     ]
    },
    {
     "name": "stdout",
     "output_type": "stream",
     "text": [
      "{'status': 'Error', 'mesg': 'Transaction not found'}\n",
      "{'status': 'Error', 'mesg': 'Unknown command'}\n"
     ]
    },
    {
     "data": {
      "text/plain": [
       "<unittest.runner.TextTestResult run=2 errors=0 failures=0>"
      ]
     },
     "execution_count": 4,
     "metadata": {},
     "output_type": "execute_result"
    }
   ],
   "source": [
    "# Run the tests\n",
    "suite = unittest.TestLoader().loadTestsFromTestCase(TestErrorMessaging)\n",
    "unittest.TextTestRunner().run(suite)"
   ]
  }
 ],
 "metadata": {
  "kernelspec": {
   "display_name": "Python 3",
   "language": "python",
   "name": "python3"
  },
  "language_info": {
   "codemirror_mode": {
    "name": "ipython",
    "version": 3
   },
   "file_extension": ".py",
   "mimetype": "text/x-python",
   "name": "python",
   "nbconvert_exporter": "python",
   "pygments_lexer": "ipython3",
   "version": "3.11.4"
  },
  "orig_nbformat": 4
 },
 "nbformat": 4,
 "nbformat_minor": 2
}
