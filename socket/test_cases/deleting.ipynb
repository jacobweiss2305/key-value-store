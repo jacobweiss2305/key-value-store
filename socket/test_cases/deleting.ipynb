{
 "cells": [
  {
   "cell_type": "code",
   "execution_count": 4,
   "metadata": {},
   "outputs": [
    {
     "name": "stdout",
     "output_type": "stream",
     "text": [
      "{'status': 'Ok', 'mesg': 'Transaction started', 'transaction_id': '9bf29486-cdf6-4698-9970-73e4508f470a'}\n",
      "Current database:\n",
      "{'status': 'Ok', 'result': {}}\n",
      "{'status': 'Ok', 'mesg': 'Key-value pair deleted'}\n",
      "Database after deleting key-value pair:\n",
      "{'status': 'Ok', 'result': {}}\n"
     ]
    }
   ],
   "source": [
    "import socket\n",
    "import json\n",
    "\n",
    "HOST = 'localhost'\n",
    "PORT = 12345\n",
    "\n",
    "# Create a socket client\n",
    "client_socket = socket.socket(socket.AF_INET, socket.SOCK_STREAM)\n",
    "client_socket.connect((HOST, PORT))\n",
    "\n",
    "# Send the START transaction command\n",
    "start_command = {'cmd': 'START'}\n",
    "start_command_json = json.dumps(start_command).encode('utf-8')\n",
    "client_socket.sendall(start_command_json)\n",
    "\n",
    "# Receive and process the START transaction response\n",
    "start_response = client_socket.recv(1024).decode('utf-8')\n",
    "start_data = json.loads(start_response)\n",
    "transaction_id = start_data[\"transaction_id\"]\n",
    "print(start_data)\n",
    "\n",
    "# Send the VIEW command to print the database\n",
    "view_command = {'cmd': 'GET', 'key': ''}\n",
    "view_command_json = json.dumps(view_command).encode('utf-8')\n",
    "client_socket.sendall(view_command_json)\n",
    "\n",
    "# Receive and process the VIEW command response\n",
    "view_response = client_socket.recv(1024).decode('utf-8')\n",
    "view_data = json.loads(view_response)\n",
    "print(\"Current database:\")\n",
    "print(view_data)\n",
    "\n",
    "# Prepare the DELETE command\n",
    "delete_command = {'cmd': 'DELETE', 'id': transaction_id, 'key': 'Lebron James'}\n",
    "delete_command_json = json.dumps(delete_command).encode('utf-8')\n",
    "\n",
    "# Send the DELETE command\n",
    "client_socket.sendall(delete_command_json)\n",
    "\n",
    "# Receive and process the DELETE command response\n",
    "delete_response = client_socket.recv(1024).decode('utf-8')\n",
    "delete_data = json.loads(delete_response)\n",
    "print(delete_data)\n",
    "\n",
    "# Send the VIEW command to print the database\n",
    "view_command = {'cmd': 'GET', 'key': ''}\n",
    "view_command_json = json.dumps(view_command).encode('utf-8')\n",
    "client_socket.sendall(view_command_json)\n",
    "\n",
    "# Receive and process the VIEW command response\n",
    "view_response = client_socket.recv(1024).decode('utf-8')\n",
    "view_data = json.loads(view_response)\n",
    "print(\"Database after deleting key-value pair:\")\n",
    "print(view_data)\n",
    "\n",
    "# Close the socket connection\n",
    "client_socket.close()\n"
   ]
  }
 ],
 "metadata": {
  "kernelspec": {
   "display_name": "venv",
   "language": "python",
   "name": "python3"
  },
  "language_info": {
   "codemirror_mode": {
    "name": "ipython",
    "version": 3
   },
   "file_extension": ".py",
   "mimetype": "text/x-python",
   "name": "python",
   "nbconvert_exporter": "python",
   "pygments_lexer": "ipython3",
   "version": "3.11.4"
  },
  "orig_nbformat": 4
 },
 "nbformat": 4,
 "nbformat_minor": 2
}
