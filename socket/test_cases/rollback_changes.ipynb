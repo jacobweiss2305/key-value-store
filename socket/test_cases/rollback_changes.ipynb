{
 "cells": [
  {
   "cell_type": "code",
   "execution_count": 1,
   "metadata": {},
   "outputs": [
    {
     "name": "stdout",
     "output_type": "stream",
     "text": [
      "{'status': 'Ok', 'mesg': 'Transaction started', 'transaction_id': '05f30f64-da47-4c76-96ac-2d2feed960fc'}\n",
      "{'status': 'Ok', 'mesg': 'Key-value pair added/updated'}\n",
      "{'status': 'Ok', 'result': '123'}\n",
      "{'status': 'Ok', 'mesg': 'Transaction rolled back'}\n",
      "{'status': 'Ok', 'result': None}\n"
     ]
    }
   ],
   "source": [
    "import socket\n",
    "import json\n",
    "\n",
    "HOST = 'localhost'\n",
    "PORT = 12345\n",
    "\n",
    "# Create a socket client\n",
    "client_socket = socket.socket(socket.AF_INET, socket.SOCK_STREAM)\n",
    "client_socket.connect((HOST, PORT))\n",
    "\n",
    "# Send the START transaction command\n",
    "start_command = {'cmd': 'START'}\n",
    "client_socket.sendall(json.dumps(start_command).encode('utf-8'))\n",
    "response = json.loads(client_socket.recv(1024).decode('utf-8'))\n",
    "transaction_id = response['transaction_id']\n",
    "print(response)\n",
    "\n",
    "# Put a key-value pair\n",
    "put_command = {'cmd': 'PUT', 'key': 'test', 'value': '123', 'id': transaction_id}\n",
    "client_socket.sendall(json.dumps(put_command).encode('utf-8'))\n",
    "response = json.loads(client_socket.recv(1024).decode('utf-8'))\n",
    "print(response)\n",
    "\n",
    "# Verify the key-value pair is stored in the transaction\n",
    "get_command = {'cmd': 'GET', 'key': 'test', 'id': transaction_id}\n",
    "client_socket.sendall(json.dumps(get_command).encode('utf-8'))\n",
    "response = json.loads(client_socket.recv(1024).decode('utf-8'))\n",
    "print(response)\n",
    "\n",
    "# Roll back the transaction\n",
    "rollback_command = {'cmd': 'ROLLBACK', 'id': transaction_id}\n",
    "client_socket.sendall(json.dumps(rollback_command).encode('utf-8'))\n",
    "response = json.loads(client_socket.recv(1024).decode('utf-8'))\n",
    "print(response)\n",
    "\n",
    "# Verify the key-value pair is no longer present\n",
    "get_command = {'cmd': 'GET', 'key': 'test'}\n",
    "client_socket.sendall(json.dumps(get_command).encode('utf-8'))\n",
    "response = json.loads(client_socket.recv(1024).decode('utf-8'))\n",
    "print(response)\n",
    "\n",
    "client_socket.close()\n"
   ]
  }
 ],
 "metadata": {
  "kernelspec": {
   "display_name": "venv",
   "language": "python",
   "name": "python3"
  },
  "language_info": {
   "codemirror_mode": {
    "name": "ipython",
    "version": 3
   },
   "file_extension": ".py",
   "mimetype": "text/x-python",
   "name": "python",
   "nbconvert_exporter": "python",
   "pygments_lexer": "ipython3",
   "version": "3.11.4"
  },
  "orig_nbformat": 4
 },
 "nbformat": 4,
 "nbformat_minor": 2
}
